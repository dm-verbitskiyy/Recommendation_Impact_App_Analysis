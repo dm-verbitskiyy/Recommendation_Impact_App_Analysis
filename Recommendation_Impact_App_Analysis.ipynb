{
 "cells": [
  {
   "cell_type": "markdown",
   "metadata": {},
   "source": [
    "Задачи для Анализа:\n",
    "\n",
    "1) Загрузить данные о заказах пользователей в приложении по доставке продуктов.\n",
    "\n",
    "2) Объединить данные из таблиц заказов, данных пользователей и информации о продуктах.\n",
    "\n",
    "3) Оценить эффективность новой системы рекомендаций приложения, проведя АБ-тест с двумя группами пользователей: группа 0 (старая версия приложения) и группа 1 (новая система рекомендаций).\n",
    "\n",
    "Описание данных:\n",
    "\n",
    "ab_users_data: содержит информацию о пользователях, историю заказов и действия пользователей в приложении. \n",
    "\n",
    " - Колонки: user_id, order_id, action, time, date, group.\n",
    "\n",
    "ab_orders: предоставляет подробную информацию о составе заказов. \n",
    "\n",
    " - Колонки: order_id, creation_time, product_ids.\n",
    "\n",
    "ab_products: содержит подробную информацию о продуктах. \n",
    "\n",
    " - Колонки: product_id, name, price."
   ]
  },
  {
   "cell_type": "code",
   "execution_count": 42,
   "metadata": {},
   "outputs": [],
   "source": [
    "import pandas as pd\n",
    "from scipy.stats import ttest_ind"
   ]
  },
  {
   "cell_type": "code",
   "execution_count": 43,
   "metadata": {},
   "outputs": [],
   "source": [
    "ab_users_data = pd.read_csv('ab_users_data.csv', parse_dates = ['time', 'date'])\n",
    "ab_orders = pd.read_csv('ab_orders.csv', parse_dates = ['creation_time'])\n",
    "ab_products = pd.read_csv('ab_products.csv')"
   ]
  },
  {
   "cell_type": "code",
   "execution_count": 44,
   "metadata": {},
   "outputs": [],
   "source": [
    "merge_df = pd.merge(ab_users_data, ab_orders, on = 'order_id')"
   ]
  },
  {
   "cell_type": "code",
   "execution_count": 45,
   "metadata": {},
   "outputs": [
    {
     "data": {
      "text/html": [
       "<div>\n",
       "<style scoped>\n",
       "    .dataframe tbody tr th:only-of-type {\n",
       "        vertical-align: middle;\n",
       "    }\n",
       "\n",
       "    .dataframe tbody tr th {\n",
       "        vertical-align: top;\n",
       "    }\n",
       "\n",
       "    .dataframe thead th {\n",
       "        text-align: right;\n",
       "    }\n",
       "</style>\n",
       "<table border=\"1\" class=\"dataframe\">\n",
       "  <thead>\n",
       "    <tr style=\"text-align: right;\">\n",
       "      <th></th>\n",
       "      <th>user_id</th>\n",
       "      <th>order_id</th>\n",
       "      <th>action</th>\n",
       "      <th>time</th>\n",
       "      <th>date</th>\n",
       "      <th>group</th>\n",
       "      <th>creation_time</th>\n",
       "      <th>name</th>\n",
       "      <th>price</th>\n",
       "    </tr>\n",
       "  </thead>\n",
       "  <tbody>\n",
       "    <tr>\n",
       "      <th>0</th>\n",
       "      <td>964</td>\n",
       "      <td>1255</td>\n",
       "      <td>create_order</td>\n",
       "      <td>2022-08-26 00:00:19</td>\n",
       "      <td>2022-08-26</td>\n",
       "      <td>0</td>\n",
       "      <td>2022-08-26 00:00:19</td>\n",
       "      <td>сок ананасовый</td>\n",
       "      <td>120.0</td>\n",
       "    </tr>\n",
       "    <tr>\n",
       "      <th>1</th>\n",
       "      <td>964</td>\n",
       "      <td>1255</td>\n",
       "      <td>create_order</td>\n",
       "      <td>2022-08-26 00:00:19</td>\n",
       "      <td>2022-08-26</td>\n",
       "      <td>0</td>\n",
       "      <td>2022-08-26 00:00:19</td>\n",
       "      <td>сок мультифрукт</td>\n",
       "      <td>120.0</td>\n",
       "    </tr>\n",
       "    <tr>\n",
       "      <th>2</th>\n",
       "      <td>964</td>\n",
       "      <td>1255</td>\n",
       "      <td>create_order</td>\n",
       "      <td>2022-08-26 00:00:19</td>\n",
       "      <td>2022-08-26</td>\n",
       "      <td>0</td>\n",
       "      <td>2022-08-26 00:00:19</td>\n",
       "      <td>мука</td>\n",
       "      <td>78.3</td>\n",
       "    </tr>\n",
       "    <tr>\n",
       "      <th>3</th>\n",
       "      <td>964</td>\n",
       "      <td>1255</td>\n",
       "      <td>create_order</td>\n",
       "      <td>2022-08-26 00:00:19</td>\n",
       "      <td>2022-08-26</td>\n",
       "      <td>0</td>\n",
       "      <td>2022-08-26 00:00:19</td>\n",
       "      <td>мандарины</td>\n",
       "      <td>90.4</td>\n",
       "    </tr>\n",
       "    <tr>\n",
       "      <th>4</th>\n",
       "      <td>965</td>\n",
       "      <td>1256</td>\n",
       "      <td>create_order</td>\n",
       "      <td>2022-08-26 00:02:21</td>\n",
       "      <td>2022-08-26</td>\n",
       "      <td>1</td>\n",
       "      <td>2022-08-26 00:02:21</td>\n",
       "      <td>сосиски</td>\n",
       "      <td>150.0</td>\n",
       "    </tr>\n",
       "    <tr>\n",
       "      <th>...</th>\n",
       "      <td>...</td>\n",
       "      <td>...</td>\n",
       "      <td>...</td>\n",
       "      <td>...</td>\n",
       "      <td>...</td>\n",
       "      <td>...</td>\n",
       "      <td>...</td>\n",
       "      <td>...</td>\n",
       "      <td>...</td>\n",
       "    </tr>\n",
       "    <tr>\n",
       "      <th>14564</th>\n",
       "      <td>1461</td>\n",
       "      <td>59487</td>\n",
       "      <td>create_order</td>\n",
       "      <td>2022-09-08 23:29:06</td>\n",
       "      <td>2022-09-08</td>\n",
       "      <td>0</td>\n",
       "      <td>2022-09-08 23:29:06</td>\n",
       "      <td>чай черный листовой</td>\n",
       "      <td>83.5</td>\n",
       "    </tr>\n",
       "    <tr>\n",
       "      <th>14565</th>\n",
       "      <td>1461</td>\n",
       "      <td>59487</td>\n",
       "      <td>create_order</td>\n",
       "      <td>2022-09-08 23:29:06</td>\n",
       "      <td>2022-09-08</td>\n",
       "      <td>0</td>\n",
       "      <td>2022-09-08 23:29:06</td>\n",
       "      <td>сок яблочный</td>\n",
       "      <td>120.0</td>\n",
       "    </tr>\n",
       "    <tr>\n",
       "      <th>14566</th>\n",
       "      <td>1461</td>\n",
       "      <td>59487</td>\n",
       "      <td>create_order</td>\n",
       "      <td>2022-09-08 23:29:06</td>\n",
       "      <td>2022-09-08</td>\n",
       "      <td>0</td>\n",
       "      <td>2022-09-08 23:29:06</td>\n",
       "      <td>курица</td>\n",
       "      <td>298.4</td>\n",
       "    </tr>\n",
       "    <tr>\n",
       "      <th>14567</th>\n",
       "      <td>1376</td>\n",
       "      <td>59533</td>\n",
       "      <td>create_order</td>\n",
       "      <td>2022-09-08 23:41:24</td>\n",
       "      <td>2022-09-08</td>\n",
       "      <td>0</td>\n",
       "      <td>2022-09-08 23:41:24</td>\n",
       "      <td>морс брусничный</td>\n",
       "      <td>190.0</td>\n",
       "    </tr>\n",
       "    <tr>\n",
       "      <th>14568</th>\n",
       "      <td>1376</td>\n",
       "      <td>59533</td>\n",
       "      <td>create_order</td>\n",
       "      <td>2022-09-08 23:41:24</td>\n",
       "      <td>2022-09-08</td>\n",
       "      <td>0</td>\n",
       "      <td>2022-09-08 23:41:24</td>\n",
       "      <td>варенье</td>\n",
       "      <td>200.3</td>\n",
       "    </tr>\n",
       "  </tbody>\n",
       "</table>\n",
       "<p>14569 rows × 9 columns</p>\n",
       "</div>"
      ],
      "text/plain": [
       "       user_id  order_id        action                time       date  group  \\\n",
       "0          964      1255  create_order 2022-08-26 00:00:19 2022-08-26      0   \n",
       "1          964      1255  create_order 2022-08-26 00:00:19 2022-08-26      0   \n",
       "2          964      1255  create_order 2022-08-26 00:00:19 2022-08-26      0   \n",
       "3          964      1255  create_order 2022-08-26 00:00:19 2022-08-26      0   \n",
       "4          965      1256  create_order 2022-08-26 00:02:21 2022-08-26      1   \n",
       "...        ...       ...           ...                 ...        ...    ...   \n",
       "14564     1461     59487  create_order 2022-09-08 23:29:06 2022-09-08      0   \n",
       "14565     1461     59487  create_order 2022-09-08 23:29:06 2022-09-08      0   \n",
       "14566     1461     59487  create_order 2022-09-08 23:29:06 2022-09-08      0   \n",
       "14567     1376     59533  create_order 2022-09-08 23:41:24 2022-09-08      0   \n",
       "14568     1376     59533  create_order 2022-09-08 23:41:24 2022-09-08      0   \n",
       "\n",
       "            creation_time                 name  price  \n",
       "0     2022-08-26 00:00:19       сок ананасовый  120.0  \n",
       "1     2022-08-26 00:00:19      сок мультифрукт  120.0  \n",
       "2     2022-08-26 00:00:19                 мука   78.3  \n",
       "3     2022-08-26 00:00:19            мандарины   90.4  \n",
       "4     2022-08-26 00:02:21              сосиски  150.0  \n",
       "...                   ...                  ...    ...  \n",
       "14564 2022-09-08 23:29:06  чай черный листовой   83.5  \n",
       "14565 2022-09-08 23:29:06         сок яблочный  120.0  \n",
       "14566 2022-09-08 23:29:06               курица  298.4  \n",
       "14567 2022-09-08 23:41:24      морс брусничный  190.0  \n",
       "14568 2022-09-08 23:41:24              варенье  200.3  \n",
       "\n",
       "[14569 rows x 9 columns]"
      ]
     },
     "execution_count": 45,
     "metadata": {},
     "output_type": "execute_result"
    }
   ],
   "source": [
    "merge_df['product_ids'] = merge_df['product_ids'].apply(lambda x: [int(item) for item in x.strip('{}').split(',')])\n",
    "merge_df = merge_df.explode('product_ids')\n",
    "result_df = pd.merge(merge_df, ab_products, left_on='product_ids', right_on='product_id', how='left')\n",
    "result_df = result_df.drop(columns=['product_ids', 'product_id'])\n",
    "result_df"
   ]
  },
  {
   "cell_type": "code",
   "execution_count": 59,
   "metadata": {},
   "outputs": [],
   "source": [
    "group_0 = result_df.query('group == 0')\n",
    "group_1 = result_df.query('group == 1')"
   ]
  },
  {
   "cell_type": "code",
   "execution_count": 62,
   "metadata": {},
   "outputs": [
    {
     "name": "stdout",
     "output_type": "stream",
     "text": [
      "Средняя сумма одного заказа для группы 0: 400.2\n",
      "Средняя сумма одного заказа для группы 1: 390.22\n"
     ]
    }
   ],
   "source": [
    "group_0_orders = group_0.groupby(['user_id', 'creation_time']).agg({'price': 'sum'}).reset_index()\n",
    "group_1_orders = group_1.groupby(['user_id', 'creation_time']).agg({'price': 'sum'}).reset_index()\n",
    "\n",
    "group_0_mean_price = group_0_orders.price.mean()\n",
    "group_1_mean_price = group_1_orders.price.mean()\n",
    "\n",
    "print('Средняя сумма одного заказа для группы 0:', group_0_mean_price.round(2))\n",
    "print('Средняя сумма одного заказа для группы 1:', group_1_mean_price.round(2))"
   ]
  },
  {
   "cell_type": "code",
   "execution_count": 77,
   "metadata": {},
   "outputs": [
    {
     "name": "stdout",
     "output_type": "stream",
     "text": [
      "t-статистика: 1.128666793265408\n",
      "p-значение: 0.2591041859424771\n",
      "Различия статистически не значимы, новая система не влияет на средний чек\n"
     ]
    }
   ],
   "source": [
    "group_0_prices = group_0_orders.price\n",
    "group_1_prices = group_1_orders.price\n",
    "\n",
    "t_stat, p_value = ttest_ind(group_0_prices, group_1_prices)\n",
    "\n",
    "print('t-статистика:', t_stat)\n",
    "print('p-значение:', p_value)\n",
    "\n",
    "alpha = 0.05\n",
    "if p_value < alpha:\n",
    "    print('Различия статистически значимы, новая система влияет на средний чек')\n",
    "else:\n",
    "    print('Различия статистически не значимы, новая система не влияет на средний чек')"
   ]
  },
  {
   "cell_type": "markdown",
   "metadata": {},
   "source": [
    "Средняя сумма заказа для группы 0 составляет 400.2, а для группы 1 - 390.22. Проведенный t-тест не выявил статистически значимых различий в средних чеках между группами (p-значение = 0.2591). Следовательно, новая система рекомендаций не оказывает влияния на средний чек."
   ]
  },
  {
   "cell_type": "code",
   "execution_count": 95,
   "metadata": {},
   "outputs": [
    {
     "name": "stdout",
     "output_type": "stream",
     "text": [
      "Среднее кол-во заказов для одного пользователя для группы 0: 11.0\n",
      "Среднее кол-во заказов для одного пользователя для группы 1: 18.0\n"
     ]
    }
   ],
   "source": [
    "group_0_order = group_0.groupby('user_id').agg({'creation_time': 'count'}).reset_index()\n",
    "group_1_order = group_1.groupby('user_id').agg({'creation_time': 'count'}).reset_index()\n",
    "\n",
    "group_0_mean_orders = group_0_.creation_time.mean()\n",
    "group_1_mean_orders = group_1_.creation_time.mean()\n",
    "\n",
    "print('Среднее кол-во заказов для одного пользователя для группы 0:', group_0_mean_orders.round(0))\n",
    "print('Среднее кол-во заказов для одного пользователя для группы 1:', group_1_mean_orders.round(0))"
   ]
  },
  {
   "cell_type": "code",
   "execution_count": 78,
   "metadata": {},
   "outputs": [
    {
     "name": "stdout",
     "output_type": "stream",
     "text": [
      "t-статистика: -13.624031571690642\n",
      "p-значение: 6.108540480706531e-39\n",
      "Различия статистически значимы, новая система влияет на количество заказов на пользователя\n"
     ]
    }
   ],
   "source": [
    "group_0_order_counts = group_0_order.creation_time\n",
    "group_1_order_counts = group_1_order.creation_time\n",
    "\n",
    "t_stat, p_value = ttest_ind(group_0_order_counts, group_1_order_counts)\n",
    "\n",
    "print('t-статистика:', t_stat)\n",
    "print('p-значение:', p_value)\n",
    "\n",
    "alpha = 0.05\n",
    "if p_value < alpha:\n",
    "    print('Различия статистически значимы, новая система влияет на количество заказов на пользователя')\n",
    "else:\n",
    "    print('Различия статистически не значимы, новая система не влияет на количество заказов на пользователя')"
   ]
  },
  {
   "cell_type": "markdown",
   "metadata": {},
   "source": [
    "Среднее количество заказов на пользователя для группы 0 составляет 11, а для группы 1 - 18. Проведенный t-тест показал статистически значимые различия (p-значение < 0.05), что говорит о влиянии новой системы рекомендаций на увеличение количества заказов."
   ]
  },
  {
   "cell_type": "code",
   "execution_count": 85,
   "metadata": {},
   "outputs": [
    {
     "name": "stdout",
     "output_type": "stream",
     "text": [
      "Вся выручка для группы 0: 643521.7\n",
      "Вся выручка для группы 1: 979835.6\n"
     ]
    }
   ],
   "source": [
    "group_0_all_money = group_0.price.sum()\n",
    "group_1_all_money = group_1.price.sum()\n",
    "\n",
    "print('Вся выручка для группы 0:', group_0_all_money.round(2))\n",
    "print('Вся выручка для группы 1:', group_1_all_money.round(2))"
   ]
  },
  {
   "cell_type": "code",
   "execution_count": 86,
   "metadata": {},
   "outputs": [
    {
     "name": "stdout",
     "output_type": "stream",
     "text": [
      "t-статистика: 1.731078581117817\n",
      "p-значение: 0.08345892434326715\n",
      "Различия статистически не значимы, новая система не влияет на общую выручку\n"
     ]
    }
   ],
   "source": [
    "group_0_total_revenue = group_0.price\n",
    "group_1_total_revenue = group_1.price\n",
    "\n",
    "t_stat, p_value = ttest_ind(group_0_total_revenue, group_1_total_revenue)\n",
    "\n",
    "print('t-статистика:', t_stat)\n",
    "print('p-значение:', p_value)\n",
    "\n",
    "alpha = 0.05\n",
    "if p_value < alpha:\n",
    "    print('Различия статистически значимы, новая система влияет на общую выручку')\n",
    "else:\n",
    "    print('Различия статистически не значимы, новая система не влияет на общую выручку')"
   ]
  },
  {
   "cell_type": "markdown",
   "metadata": {},
   "source": [
    "Общая выручка для группы 0 составляет 643521.7, а для группы 1 - 979835.6. Однако, статистический тест не выявил значимых различий в общей выручке между группами (p-значение = 0.0835). Следовательно, новая система рекомендаций не оказывает статистически значимого влияния на общую выручку."
   ]
  },
  {
   "cell_type": "markdown",
   "metadata": {},
   "source": [
    "# Основываясь на стат тесты, можно сделать вывод, что новая система рекомендаций оказывает статистически значимое влияние на количество заказов у пользователей и увеличивает число заказов, но не влияет на средний чек и общую выручку."
   ]
  }
 ],
 "metadata": {
  "kernelspec": {
   "display_name": "Python 3",
   "language": "python",
   "name": "python3"
  },
  "language_info": {
   "codemirror_mode": {
    "name": "ipython",
    "version": 3
   },
   "file_extension": ".py",
   "mimetype": "text/x-python",
   "name": "python",
   "nbconvert_exporter": "python",
   "pygments_lexer": "ipython3",
   "version": "3.7.3"
  }
 },
 "nbformat": 4,
 "nbformat_minor": 4
}
